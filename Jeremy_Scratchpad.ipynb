{
 "cells": [
  {
   "cell_type": "code",
   "execution_count": 1,
   "metadata": {},
   "outputs": [],
   "source": [
    "%load_ext autoreload\n",
    "%autoreload 2\n",
    "import pandas as pd\n",
    "import numpy as np\n",
    "\n",
    "import matplotlib.pyplot as plt\n",
    "import seaborn as sns\n",
    "\n",
    "from sklearn.cluster import KMeans\n",
    "from sklearn.preprocessing import MinMaxScaler, OneHotEncoder, LabelEncoder\n",
    "from sklearn.model_selection import train_test_split\n",
    "from sklearn.metrics import mean_squared_error, explained_variance_score, r2_score\n",
    "from sklearn.linear_model import LinearRegression\n",
    "from sklearn.feature_selection import RFE\n",
    "from sklearn.impute import SimpleImputer\n",
    "\n",
    "import warnings\n",
    "warnings.filterwarnings('ignore')\n",
    "\n",
    "import acquire\n",
    "import prepare\n",
    "import env\n",
    "\n",
    "from wrangle_zillow import wrangle_zillow_data"
   ]
  },
  {
   "cell_type": "markdown",
   "metadata": {},
   "source": [
    "## acquire"
   ]
  },
  {
   "cell_type": "code",
   "execution_count": 2,
   "metadata": {},
   "outputs": [],
   "source": [
    "query ='''\n",
    "select \n",
    "    prop.parcelid\n",
    "    , pred.logerror\n",
    "    , pred.transactiondate\n",
    "    , bathroomcnt\n",
    "    , bedroomcnt\n",
    "    , calculatedfinishedsquarefeet\n",
    "    , fips\n",
    "    , latitude\n",
    "    , longitude\n",
    "    , lotsizesquarefeet\n",
    "    , regionidcity\n",
    "    , regionidcounty\n",
    "    , regionidneighborhood\n",
    "    , regionidzip\n",
    "    , yearbuilt\n",
    "    , structuretaxvaluedollarcnt\n",
    "    , taxvaluedollarcnt\n",
    "    , landtaxvaluedollarcnt\n",
    "    , taxamount\n",
    "from properties_2017 prop\n",
    "inner join predictions_2017 pred on prop.parcelid = pred.parcelid\n",
    "where propertylandusetypeid = 261;\n",
    "'''\n",
    "\n",
    "df = pd.read_sql(query, env.get_url('zillow'))"
   ]
  },
  {
   "cell_type": "code",
   "execution_count": 3,
   "metadata": {},
   "outputs": [],
   "source": [
    "#df = pd.read_csv('zillow_data.csv')"
   ]
  },
  {
   "cell_type": "code",
   "execution_count": 4,
   "metadata": {},
   "outputs": [],
   "source": [
    "#df = df.drop(columns=['Unnamed: 0'])"
   ]
  },
  {
   "cell_type": "markdown",
   "metadata": {},
   "source": [
    "### Goal: Improve our original estimate of the log error by using clustering methodologies.\n",
    "\n",
    "## Acquisition, Prep, and Initial Exploration\n",
    "Using the notebook and files you created during the exercises make any changes, additions, etc. you want at this point. NOTE: You will NOT be splitting into train and test at this point.\n",
    "\n",
    "Ideas:\n",
    "\n",
    "   1. Data types:\n",
    "\n",
    "        - Write a function that takes in a dataframe and a list of column names and returns the dataframe with the datatypes of those columns changed to a non-numeric type."
   ]
  },
  {
   "cell_type": "code",
   "execution_count": 5,
   "metadata": {},
   "outputs": [
    {
     "data": {
      "text/html": [
       "<div>\n",
       "<style scoped>\n",
       "    .dataframe tbody tr th:only-of-type {\n",
       "        vertical-align: middle;\n",
       "    }\n",
       "\n",
       "    .dataframe tbody tr th {\n",
       "        vertical-align: top;\n",
       "    }\n",
       "\n",
       "    .dataframe thead th {\n",
       "        text-align: right;\n",
       "    }\n",
       "</style>\n",
       "<table border=\"1\" class=\"dataframe\">\n",
       "  <thead>\n",
       "    <tr style=\"text-align: right;\">\n",
       "      <th></th>\n",
       "      <th>parcelid</th>\n",
       "      <th>logerror</th>\n",
       "      <th>transactiondate</th>\n",
       "      <th>bathroomcnt</th>\n",
       "      <th>bedroomcnt</th>\n",
       "      <th>calculatedfinishedsquarefeet</th>\n",
       "      <th>fips</th>\n",
       "      <th>latitude</th>\n",
       "      <th>longitude</th>\n",
       "      <th>lotsizesquarefeet</th>\n",
       "      <th>regionidcity</th>\n",
       "      <th>regionidcounty</th>\n",
       "      <th>regionidneighborhood</th>\n",
       "      <th>regionidzip</th>\n",
       "      <th>yearbuilt</th>\n",
       "      <th>structuretaxvaluedollarcnt</th>\n",
       "      <th>taxvaluedollarcnt</th>\n",
       "      <th>landtaxvaluedollarcnt</th>\n",
       "      <th>taxamount</th>\n",
       "    </tr>\n",
       "  </thead>\n",
       "  <tbody>\n",
       "    <tr>\n",
       "      <th>0</th>\n",
       "      <td>14297519</td>\n",
       "      <td>0.025595</td>\n",
       "      <td>2017-01-01</td>\n",
       "      <td>3.5</td>\n",
       "      <td>4.0</td>\n",
       "      <td>3100.0</td>\n",
       "      <td>6059.0</td>\n",
       "      <td>33634931.0</td>\n",
       "      <td>-117869207.0</td>\n",
       "      <td>4506.0</td>\n",
       "      <td>53571.0</td>\n",
       "      <td>1286.0</td>\n",
       "      <td>NaN</td>\n",
       "      <td>96978.0</td>\n",
       "      <td>1998.0</td>\n",
       "      <td>485713.0</td>\n",
       "      <td>1023282.0</td>\n",
       "      <td>537569.0</td>\n",
       "      <td>11013.72</td>\n",
       "    </tr>\n",
       "    <tr>\n",
       "      <th>1</th>\n",
       "      <td>17052889</td>\n",
       "      <td>0.055619</td>\n",
       "      <td>2017-01-01</td>\n",
       "      <td>1.0</td>\n",
       "      <td>2.0</td>\n",
       "      <td>1465.0</td>\n",
       "      <td>6111.0</td>\n",
       "      <td>34449266.0</td>\n",
       "      <td>-119281531.0</td>\n",
       "      <td>12647.0</td>\n",
       "      <td>13091.0</td>\n",
       "      <td>2061.0</td>\n",
       "      <td>NaN</td>\n",
       "      <td>97099.0</td>\n",
       "      <td>1967.0</td>\n",
       "      <td>88000.0</td>\n",
       "      <td>464000.0</td>\n",
       "      <td>376000.0</td>\n",
       "      <td>5672.48</td>\n",
       "    </tr>\n",
       "    <tr>\n",
       "      <th>2</th>\n",
       "      <td>14186244</td>\n",
       "      <td>0.005383</td>\n",
       "      <td>2017-01-01</td>\n",
       "      <td>2.0</td>\n",
       "      <td>3.0</td>\n",
       "      <td>1243.0</td>\n",
       "      <td>6059.0</td>\n",
       "      <td>33886168.0</td>\n",
       "      <td>-117823170.0</td>\n",
       "      <td>8432.0</td>\n",
       "      <td>21412.0</td>\n",
       "      <td>1286.0</td>\n",
       "      <td>NaN</td>\n",
       "      <td>97078.0</td>\n",
       "      <td>1962.0</td>\n",
       "      <td>85289.0</td>\n",
       "      <td>564778.0</td>\n",
       "      <td>479489.0</td>\n",
       "      <td>6488.30</td>\n",
       "    </tr>\n",
       "    <tr>\n",
       "      <th>3</th>\n",
       "      <td>12177905</td>\n",
       "      <td>-0.103410</td>\n",
       "      <td>2017-01-01</td>\n",
       "      <td>3.0</td>\n",
       "      <td>4.0</td>\n",
       "      <td>2376.0</td>\n",
       "      <td>6037.0</td>\n",
       "      <td>34245180.0</td>\n",
       "      <td>-118240722.0</td>\n",
       "      <td>13038.0</td>\n",
       "      <td>396551.0</td>\n",
       "      <td>3101.0</td>\n",
       "      <td>NaN</td>\n",
       "      <td>96330.0</td>\n",
       "      <td>1970.0</td>\n",
       "      <td>108918.0</td>\n",
       "      <td>145143.0</td>\n",
       "      <td>36225.0</td>\n",
       "      <td>1777.51</td>\n",
       "    </tr>\n",
       "    <tr>\n",
       "      <th>4</th>\n",
       "      <td>12095076</td>\n",
       "      <td>-0.001011</td>\n",
       "      <td>2017-01-01</td>\n",
       "      <td>3.0</td>\n",
       "      <td>4.0</td>\n",
       "      <td>2962.0</td>\n",
       "      <td>6037.0</td>\n",
       "      <td>34145202.0</td>\n",
       "      <td>-118179824.0</td>\n",
       "      <td>63000.0</td>\n",
       "      <td>47019.0</td>\n",
       "      <td>3101.0</td>\n",
       "      <td>274684.0</td>\n",
       "      <td>96293.0</td>\n",
       "      <td>1950.0</td>\n",
       "      <td>276684.0</td>\n",
       "      <td>773303.0</td>\n",
       "      <td>496619.0</td>\n",
       "      <td>9516.26</td>\n",
       "    </tr>\n",
       "  </tbody>\n",
       "</table>\n",
       "</div>"
      ],
      "text/plain": [
       "   parcelid  logerror transactiondate  bathroomcnt  bedroomcnt  \\\n",
       "0  14297519  0.025595      2017-01-01          3.5         4.0   \n",
       "1  17052889  0.055619      2017-01-01          1.0         2.0   \n",
       "2  14186244  0.005383      2017-01-01          2.0         3.0   \n",
       "3  12177905 -0.103410      2017-01-01          3.0         4.0   \n",
       "4  12095076 -0.001011      2017-01-01          3.0         4.0   \n",
       "\n",
       "   calculatedfinishedsquarefeet    fips    latitude    longitude  \\\n",
       "0                        3100.0  6059.0  33634931.0 -117869207.0   \n",
       "1                        1465.0  6111.0  34449266.0 -119281531.0   \n",
       "2                        1243.0  6059.0  33886168.0 -117823170.0   \n",
       "3                        2376.0  6037.0  34245180.0 -118240722.0   \n",
       "4                        2962.0  6037.0  34145202.0 -118179824.0   \n",
       "\n",
       "   lotsizesquarefeet  regionidcity  regionidcounty  regionidneighborhood  \\\n",
       "0             4506.0       53571.0          1286.0                   NaN   \n",
       "1            12647.0       13091.0          2061.0                   NaN   \n",
       "2             8432.0       21412.0          1286.0                   NaN   \n",
       "3            13038.0      396551.0          3101.0                   NaN   \n",
       "4            63000.0       47019.0          3101.0              274684.0   \n",
       "\n",
       "   regionidzip  yearbuilt  structuretaxvaluedollarcnt  taxvaluedollarcnt  \\\n",
       "0      96978.0     1998.0                    485713.0          1023282.0   \n",
       "1      97099.0     1967.0                     88000.0           464000.0   \n",
       "2      97078.0     1962.0                     85289.0           564778.0   \n",
       "3      96330.0     1970.0                    108918.0           145143.0   \n",
       "4      96293.0     1950.0                    276684.0           773303.0   \n",
       "\n",
       "   landtaxvaluedollarcnt  taxamount  \n",
       "0               537569.0   11013.72  \n",
       "1               376000.0    5672.48  \n",
       "2               479489.0    6488.30  \n",
       "3                36225.0    1777.51  \n",
       "4               496619.0    9516.26  "
      ]
     },
     "execution_count": 5,
     "metadata": {},
     "output_type": "execute_result"
    }
   ],
   "source": [
    "df.head()"
   ]
  },
  {
   "cell_type": "code",
   "execution_count": 6,
   "metadata": {},
   "outputs": [],
   "source": [
    "# it works!\n",
    "cols = ['bathroomcnt', 'latitude']\n",
    "def change_data(df, cols):\n",
    "    \"\"\"\n",
    "    takes a dataframe and a list of columns and it \n",
    "    converts the columns listed that are in the dataframe into \n",
    "    objects in the same dataframe\n",
    "    \"\"\"\n",
    "    newdf = pd.DataFrame(df, columns=cols)\n",
    "    df = df.drop(columns=cols)\n",
    "    newdf = newdf.astype(object)\n",
    "    df = pd.concat([df, newdf], axis=1)\n",
    "    return df\n",
    "    \n",
    "        \n",
    "\n",
    "\n",
    "\n",
    "#zillow = df.copy()\n",
    "#zillow = zillow.astype(object)"
   ]
  },
  {
   "cell_type": "markdown",
   "metadata": {},
   "source": [
    "   - Use this function to appropriately transform any numeric columns that should not be treated as numbers."
   ]
  },
  {
   "cell_type": "code",
   "execution_count": 7,
   "metadata": {},
   "outputs": [
    {
     "name": "stdout",
     "output_type": "stream",
     "text": [
      "<class 'pandas.core.frame.DataFrame'>\n",
      "RangeIndex: 52442 entries, 0 to 52441\n",
      "Data columns (total 19 columns):\n",
      "parcelid                        52442 non-null int64\n",
      "logerror                        52442 non-null float64\n",
      "transactiondate                 52442 non-null object\n",
      "bathroomcnt                     52442 non-null float64\n",
      "bedroomcnt                      52442 non-null float64\n",
      "calculatedfinishedsquarefeet    52360 non-null float64\n",
      "fips                            52442 non-null float64\n",
      "latitude                        52442 non-null float64\n",
      "longitude                       52442 non-null float64\n",
      "lotsizesquarefeet               52073 non-null float64\n",
      "regionidcity                    51405 non-null float64\n",
      "regionidcounty                  52442 non-null float64\n",
      "regionidneighborhood            19033 non-null float64\n",
      "regionidzip                     52416 non-null float64\n",
      "yearbuilt                       52326 non-null float64\n",
      "structuretaxvaluedollarcnt      52358 non-null float64\n",
      "taxvaluedollarcnt               52441 non-null float64\n",
      "landtaxvaluedollarcnt           52441 non-null float64\n",
      "taxamount                       52438 non-null float64\n",
      "dtypes: float64(17), int64(1), object(1)\n",
      "memory usage: 7.6+ MB\n"
     ]
    }
   ],
   "source": [
    "df.info()"
   ]
  },
  {
   "cell_type": "markdown",
   "metadata": {},
   "source": [
    ">upon more inspection it looks like we could use this function to convert zipcodes parcelid id fips, rawcensustractbloc, regionid's,"
   ]
  },
  {
   "cell_type": "code",
   "execution_count": null,
   "metadata": {},
   "outputs": [],
   "source": []
  },
  {
   "cell_type": "code",
   "execution_count": 8,
   "metadata": {},
   "outputs": [
    {
     "data": {
      "text/html": [
       "<div>\n",
       "<style scoped>\n",
       "    .dataframe tbody tr th:only-of-type {\n",
       "        vertical-align: middle;\n",
       "    }\n",
       "\n",
       "    .dataframe tbody tr th {\n",
       "        vertical-align: top;\n",
       "    }\n",
       "\n",
       "    .dataframe thead th {\n",
       "        text-align: right;\n",
       "    }\n",
       "</style>\n",
       "<table border=\"1\" class=\"dataframe\">\n",
       "  <thead>\n",
       "    <tr style=\"text-align: right;\">\n",
       "      <th></th>\n",
       "      <th>parcelid</th>\n",
       "      <th>logerror</th>\n",
       "      <th>transactiondate</th>\n",
       "      <th>bathroomcnt</th>\n",
       "      <th>bedroomcnt</th>\n",
       "      <th>calculatedfinishedsquarefeet</th>\n",
       "      <th>fips</th>\n",
       "      <th>latitude</th>\n",
       "      <th>longitude</th>\n",
       "      <th>lotsizesquarefeet</th>\n",
       "      <th>regionidcity</th>\n",
       "      <th>regionidcounty</th>\n",
       "      <th>regionidneighborhood</th>\n",
       "      <th>regionidzip</th>\n",
       "      <th>yearbuilt</th>\n",
       "      <th>structuretaxvaluedollarcnt</th>\n",
       "      <th>taxvaluedollarcnt</th>\n",
       "      <th>landtaxvaluedollarcnt</th>\n",
       "      <th>taxamount</th>\n",
       "    </tr>\n",
       "  </thead>\n",
       "  <tbody>\n",
       "    <tr>\n",
       "      <th>0</th>\n",
       "      <td>14297519</td>\n",
       "      <td>0.025595</td>\n",
       "      <td>2017-01-01</td>\n",
       "      <td>3.5</td>\n",
       "      <td>4.0</td>\n",
       "      <td>3100.0</td>\n",
       "      <td>6059.0</td>\n",
       "      <td>33634931.0</td>\n",
       "      <td>-117869207.0</td>\n",
       "      <td>4506.0</td>\n",
       "      <td>53571.0</td>\n",
       "      <td>1286.0</td>\n",
       "      <td>NaN</td>\n",
       "      <td>96978.0</td>\n",
       "      <td>1998.0</td>\n",
       "      <td>485713.0</td>\n",
       "      <td>1023282.0</td>\n",
       "      <td>537569.0</td>\n",
       "      <td>11013.72</td>\n",
       "    </tr>\n",
       "    <tr>\n",
       "      <th>1</th>\n",
       "      <td>17052889</td>\n",
       "      <td>0.055619</td>\n",
       "      <td>2017-01-01</td>\n",
       "      <td>1.0</td>\n",
       "      <td>2.0</td>\n",
       "      <td>1465.0</td>\n",
       "      <td>6111.0</td>\n",
       "      <td>34449266.0</td>\n",
       "      <td>-119281531.0</td>\n",
       "      <td>12647.0</td>\n",
       "      <td>13091.0</td>\n",
       "      <td>2061.0</td>\n",
       "      <td>NaN</td>\n",
       "      <td>97099.0</td>\n",
       "      <td>1967.0</td>\n",
       "      <td>88000.0</td>\n",
       "      <td>464000.0</td>\n",
       "      <td>376000.0</td>\n",
       "      <td>5672.48</td>\n",
       "    </tr>\n",
       "    <tr>\n",
       "      <th>2</th>\n",
       "      <td>14186244</td>\n",
       "      <td>0.005383</td>\n",
       "      <td>2017-01-01</td>\n",
       "      <td>2.0</td>\n",
       "      <td>3.0</td>\n",
       "      <td>1243.0</td>\n",
       "      <td>6059.0</td>\n",
       "      <td>33886168.0</td>\n",
       "      <td>-117823170.0</td>\n",
       "      <td>8432.0</td>\n",
       "      <td>21412.0</td>\n",
       "      <td>1286.0</td>\n",
       "      <td>NaN</td>\n",
       "      <td>97078.0</td>\n",
       "      <td>1962.0</td>\n",
       "      <td>85289.0</td>\n",
       "      <td>564778.0</td>\n",
       "      <td>479489.0</td>\n",
       "      <td>6488.30</td>\n",
       "    </tr>\n",
       "    <tr>\n",
       "      <th>3</th>\n",
       "      <td>12177905</td>\n",
       "      <td>-0.103410</td>\n",
       "      <td>2017-01-01</td>\n",
       "      <td>3.0</td>\n",
       "      <td>4.0</td>\n",
       "      <td>2376.0</td>\n",
       "      <td>6037.0</td>\n",
       "      <td>34245180.0</td>\n",
       "      <td>-118240722.0</td>\n",
       "      <td>13038.0</td>\n",
       "      <td>396551.0</td>\n",
       "      <td>3101.0</td>\n",
       "      <td>NaN</td>\n",
       "      <td>96330.0</td>\n",
       "      <td>1970.0</td>\n",
       "      <td>108918.0</td>\n",
       "      <td>145143.0</td>\n",
       "      <td>36225.0</td>\n",
       "      <td>1777.51</td>\n",
       "    </tr>\n",
       "    <tr>\n",
       "      <th>4</th>\n",
       "      <td>12095076</td>\n",
       "      <td>-0.001011</td>\n",
       "      <td>2017-01-01</td>\n",
       "      <td>3.0</td>\n",
       "      <td>4.0</td>\n",
       "      <td>2962.0</td>\n",
       "      <td>6037.0</td>\n",
       "      <td>34145202.0</td>\n",
       "      <td>-118179824.0</td>\n",
       "      <td>63000.0</td>\n",
       "      <td>47019.0</td>\n",
       "      <td>3101.0</td>\n",
       "      <td>274684.0</td>\n",
       "      <td>96293.0</td>\n",
       "      <td>1950.0</td>\n",
       "      <td>276684.0</td>\n",
       "      <td>773303.0</td>\n",
       "      <td>496619.0</td>\n",
       "      <td>9516.26</td>\n",
       "    </tr>\n",
       "  </tbody>\n",
       "</table>\n",
       "</div>"
      ],
      "text/plain": [
       "   parcelid  logerror transactiondate  bathroomcnt  bedroomcnt  \\\n",
       "0  14297519  0.025595      2017-01-01          3.5         4.0   \n",
       "1  17052889  0.055619      2017-01-01          1.0         2.0   \n",
       "2  14186244  0.005383      2017-01-01          2.0         3.0   \n",
       "3  12177905 -0.103410      2017-01-01          3.0         4.0   \n",
       "4  12095076 -0.001011      2017-01-01          3.0         4.0   \n",
       "\n",
       "   calculatedfinishedsquarefeet    fips    latitude    longitude  \\\n",
       "0                        3100.0  6059.0  33634931.0 -117869207.0   \n",
       "1                        1465.0  6111.0  34449266.0 -119281531.0   \n",
       "2                        1243.0  6059.0  33886168.0 -117823170.0   \n",
       "3                        2376.0  6037.0  34245180.0 -118240722.0   \n",
       "4                        2962.0  6037.0  34145202.0 -118179824.0   \n",
       "\n",
       "   lotsizesquarefeet  regionidcity  regionidcounty  regionidneighborhood  \\\n",
       "0             4506.0       53571.0          1286.0                   NaN   \n",
       "1            12647.0       13091.0          2061.0                   NaN   \n",
       "2             8432.0       21412.0          1286.0                   NaN   \n",
       "3            13038.0      396551.0          3101.0                   NaN   \n",
       "4            63000.0       47019.0          3101.0              274684.0   \n",
       "\n",
       "   regionidzip  yearbuilt  structuretaxvaluedollarcnt  taxvaluedollarcnt  \\\n",
       "0      96978.0     1998.0                    485713.0          1023282.0   \n",
       "1      97099.0     1967.0                     88000.0           464000.0   \n",
       "2      97078.0     1962.0                     85289.0           564778.0   \n",
       "3      96330.0     1970.0                    108918.0           145143.0   \n",
       "4      96293.0     1950.0                    276684.0           773303.0   \n",
       "\n",
       "   landtaxvaluedollarcnt  taxamount  \n",
       "0               537569.0   11013.72  \n",
       "1               376000.0    5672.48  \n",
       "2               479489.0    6488.30  \n",
       "3                36225.0    1777.51  \n",
       "4               496619.0    9516.26  "
      ]
     },
     "execution_count": 8,
     "metadata": {},
     "output_type": "execute_result"
    }
   ],
   "source": [
    "df.head()"
   ]
  },
  {
   "cell_type": "code",
   "execution_count": 9,
   "metadata": {},
   "outputs": [],
   "source": [
    "cols = ['parcelid','fips', 'regionidcity', 'regionidcounty', 'regionidzip',\n",
    "       'regionidneighborhood',]\n",
    "zillow = change_data(df, cols)"
   ]
  },
  {
   "cell_type": "code",
   "execution_count": 10,
   "metadata": {},
   "outputs": [
    {
     "name": "stdout",
     "output_type": "stream",
     "text": [
      "<class 'pandas.core.frame.DataFrame'>\n",
      "RangeIndex: 52442 entries, 0 to 52441\n",
      "Data columns (total 19 columns):\n",
      "logerror                        52442 non-null float64\n",
      "transactiondate                 52442 non-null object\n",
      "bathroomcnt                     52442 non-null float64\n",
      "bedroomcnt                      52442 non-null float64\n",
      "calculatedfinishedsquarefeet    52360 non-null float64\n",
      "latitude                        52442 non-null float64\n",
      "longitude                       52442 non-null float64\n",
      "lotsizesquarefeet               52073 non-null float64\n",
      "yearbuilt                       52326 non-null float64\n",
      "structuretaxvaluedollarcnt      52358 non-null float64\n",
      "taxvaluedollarcnt               52441 non-null float64\n",
      "landtaxvaluedollarcnt           52441 non-null float64\n",
      "taxamount                       52438 non-null float64\n",
      "parcelid                        52442 non-null object\n",
      "fips                            52442 non-null object\n",
      "regionidcity                    51405 non-null object\n",
      "regionidcounty                  52442 non-null object\n",
      "regionidzip                     52416 non-null object\n",
      "regionidneighborhood            19033 non-null object\n",
      "dtypes: float64(12), object(7)\n",
      "memory usage: 7.6+ MB\n"
     ]
    }
   ],
   "source": [
    "zillow.info()"
   ]
  },
  {
   "cell_type": "markdown",
   "metadata": {},
   "source": [
    "   2. Missing Values: Impute the values in land square feet."
   ]
  },
  {
   "cell_type": "code",
   "execution_count": 11,
   "metadata": {},
   "outputs": [
    {
     "data": {
      "text/html": [
       "<div>\n",
       "<style scoped>\n",
       "    .dataframe tbody tr th:only-of-type {\n",
       "        vertical-align: middle;\n",
       "    }\n",
       "\n",
       "    .dataframe tbody tr th {\n",
       "        vertical-align: top;\n",
       "    }\n",
       "\n",
       "    .dataframe thead th {\n",
       "        text-align: right;\n",
       "    }\n",
       "</style>\n",
       "<table border=\"1\" class=\"dataframe\">\n",
       "  <thead>\n",
       "    <tr style=\"text-align: right;\">\n",
       "      <th></th>\n",
       "      <th>logerror</th>\n",
       "      <th>transactiondate</th>\n",
       "      <th>bathroomcnt</th>\n",
       "      <th>bedroomcnt</th>\n",
       "      <th>calculatedfinishedsquarefeet</th>\n",
       "      <th>latitude</th>\n",
       "      <th>longitude</th>\n",
       "      <th>lotsizesquarefeet</th>\n",
       "      <th>yearbuilt</th>\n",
       "      <th>structuretaxvaluedollarcnt</th>\n",
       "      <th>taxvaluedollarcnt</th>\n",
       "      <th>landtaxvaluedollarcnt</th>\n",
       "      <th>taxamount</th>\n",
       "      <th>parcelid</th>\n",
       "      <th>fips</th>\n",
       "      <th>regionidcity</th>\n",
       "      <th>regionidcounty</th>\n",
       "      <th>regionidzip</th>\n",
       "      <th>regionidneighborhood</th>\n",
       "    </tr>\n",
       "  </thead>\n",
       "  <tbody>\n",
       "    <tr>\n",
       "      <th>36190</th>\n",
       "      <td>0.12837</td>\n",
       "      <td>2017-06-30</td>\n",
       "      <td>3.0</td>\n",
       "      <td>2.0</td>\n",
       "      <td>2208.0</td>\n",
       "      <td>34099798.0</td>\n",
       "      <td>-118277433.0</td>\n",
       "      <td>5568.0</td>\n",
       "      <td>1962.0</td>\n",
       "      <td>136768.0</td>\n",
       "      <td>611479.0</td>\n",
       "      <td>474711.0</td>\n",
       "      <td>7374.74</td>\n",
       "      <td>11945676</td>\n",
       "      <td>6037</td>\n",
       "      <td>12447</td>\n",
       "      <td>3101</td>\n",
       "      <td>96008</td>\n",
       "      <td>274359</td>\n",
       "    </tr>\n",
       "  </tbody>\n",
       "</table>\n",
       "</div>"
      ],
      "text/plain": [
       "       logerror transactiondate  bathroomcnt  bedroomcnt  \\\n",
       "36190   0.12837      2017-06-30          3.0         2.0   \n",
       "\n",
       "       calculatedfinishedsquarefeet    latitude    longitude  \\\n",
       "36190                        2208.0  34099798.0 -118277433.0   \n",
       "\n",
       "       lotsizesquarefeet  yearbuilt  structuretaxvaluedollarcnt  \\\n",
       "36190             5568.0     1962.0                    136768.0   \n",
       "\n",
       "       taxvaluedollarcnt  landtaxvaluedollarcnt  taxamount  parcelid  fips  \\\n",
       "36190           611479.0               474711.0    7374.74  11945676  6037   \n",
       "\n",
       "      regionidcity regionidcounty regionidzip regionidneighborhood  \n",
       "36190        12447           3101       96008               274359  "
      ]
     },
     "execution_count": 11,
     "metadata": {},
     "output_type": "execute_result"
    }
   ],
   "source": [
    "zillow.sample()"
   ]
  },
  {
   "cell_type": "code",
   "execution_count": 12,
   "metadata": {},
   "outputs": [
    {
     "data": {
      "text/plain": [
       "logerror                         0.00\n",
       "transactiondate                  0.00\n",
       "bathroomcnt                      0.00\n",
       "bedroomcnt                       0.00\n",
       "calculatedfinishedsquarefeet     0.16\n",
       "latitude                         0.00\n",
       "longitude                        0.00\n",
       "lotsizesquarefeet                0.70\n",
       "yearbuilt                        0.22\n",
       "structuretaxvaluedollarcnt       0.16\n",
       "taxvaluedollarcnt                0.00\n",
       "landtaxvaluedollarcnt            0.00\n",
       "taxamount                        0.01\n",
       "parcelid                         0.00\n",
       "fips                             0.00\n",
       "regionidcity                     1.98\n",
       "regionidcounty                   0.00\n",
       "regionidzip                      0.05\n",
       "regionidneighborhood            63.71\n",
       "dtype: float64"
      ]
     },
     "execution_count": 12,
     "metadata": {},
     "output_type": "execute_result"
    }
   ],
   "source": [
    "round(zillow.isna().sum()/len(zillow)*100,2)"
   ]
  },
  {
   "cell_type": "markdown",
   "metadata": {},
   "source": [
    "  - For land square feet, the goal is to impute the missing values by creating a linear model where landtaxvaluedollarcnt is the x-variable and the output/y-variable is the estimated land square feet."
   ]
  },
  {
   "cell_type": "code",
   "execution_count": 13,
   "metadata": {},
   "outputs": [],
   "source": [
    "preml = zillow[['lotsizesquarefeet', 'landtaxvaluedollarcnt']].fillna(0)"
   ]
  },
  {
   "cell_type": "code",
   "execution_count": 14,
   "metadata": {},
   "outputs": [],
   "source": [
    "lm = LinearRegression()\n",
    "X = preml[['landtaxvaluedollarcnt']]\n",
    "y = preml[['lotsizesquarefeet']]\n",
    "lm.fit(X, y)\n",
    "pred = lm.predict(X)\n",
    "scores = []\n",
    "\n",
    "scores.append(r2_score(X, y))"
   ]
  },
  {
   "cell_type": "markdown",
   "metadata": {},
   "source": [
    "   - We'll then use this model to make predictions and fill in the missing values."
   ]
  },
  {
   "cell_type": "code",
   "execution_count": 15,
   "metadata": {},
   "outputs": [],
   "source": [
    "zillow['predict_lotsize'] = lm.predict(X).astype(int)"
   ]
  },
  {
   "cell_type": "code",
   "execution_count": 16,
   "metadata": {},
   "outputs": [
    {
     "data": {
      "text/html": [
       "<div>\n",
       "<style scoped>\n",
       "    .dataframe tbody tr th:only-of-type {\n",
       "        vertical-align: middle;\n",
       "    }\n",
       "\n",
       "    .dataframe tbody tr th {\n",
       "        vertical-align: top;\n",
       "    }\n",
       "\n",
       "    .dataframe thead th {\n",
       "        text-align: right;\n",
       "    }\n",
       "</style>\n",
       "<table border=\"1\" class=\"dataframe\">\n",
       "  <thead>\n",
       "    <tr style=\"text-align: right;\">\n",
       "      <th></th>\n",
       "      <th>logerror</th>\n",
       "      <th>transactiondate</th>\n",
       "      <th>bathroomcnt</th>\n",
       "      <th>bedroomcnt</th>\n",
       "      <th>calculatedfinishedsquarefeet</th>\n",
       "      <th>latitude</th>\n",
       "      <th>longitude</th>\n",
       "      <th>lotsizesquarefeet</th>\n",
       "      <th>yearbuilt</th>\n",
       "      <th>structuretaxvaluedollarcnt</th>\n",
       "      <th>taxvaluedollarcnt</th>\n",
       "      <th>landtaxvaluedollarcnt</th>\n",
       "      <th>taxamount</th>\n",
       "      <th>parcelid</th>\n",
       "      <th>fips</th>\n",
       "      <th>regionidcity</th>\n",
       "      <th>regionidcounty</th>\n",
       "      <th>regionidzip</th>\n",
       "      <th>regionidneighborhood</th>\n",
       "      <th>predict_lotsize</th>\n",
       "    </tr>\n",
       "  </thead>\n",
       "  <tbody>\n",
       "    <tr>\n",
       "      <th>0</th>\n",
       "      <td>0.025595</td>\n",
       "      <td>2017-01-01</td>\n",
       "      <td>3.5</td>\n",
       "      <td>4.0</td>\n",
       "      <td>3100.0</td>\n",
       "      <td>33634931.0</td>\n",
       "      <td>-117869207.0</td>\n",
       "      <td>4506.0</td>\n",
       "      <td>1998.0</td>\n",
       "      <td>485713.0</td>\n",
       "      <td>1023282.0</td>\n",
       "      <td>537569.0</td>\n",
       "      <td>11013.72</td>\n",
       "      <td>14297519</td>\n",
       "      <td>6059</td>\n",
       "      <td>53571</td>\n",
       "      <td>1286</td>\n",
       "      <td>96978</td>\n",
       "      <td>NaN</td>\n",
       "      <td>11828</td>\n",
       "    </tr>\n",
       "    <tr>\n",
       "      <th>1</th>\n",
       "      <td>0.055619</td>\n",
       "      <td>2017-01-01</td>\n",
       "      <td>1.0</td>\n",
       "      <td>2.0</td>\n",
       "      <td>1465.0</td>\n",
       "      <td>34449266.0</td>\n",
       "      <td>-119281531.0</td>\n",
       "      <td>12647.0</td>\n",
       "      <td>1967.0</td>\n",
       "      <td>88000.0</td>\n",
       "      <td>464000.0</td>\n",
       "      <td>376000.0</td>\n",
       "      <td>5672.48</td>\n",
       "      <td>17052889</td>\n",
       "      <td>6111</td>\n",
       "      <td>13091</td>\n",
       "      <td>2061</td>\n",
       "      <td>97099</td>\n",
       "      <td>NaN</td>\n",
       "      <td>11378</td>\n",
       "    </tr>\n",
       "    <tr>\n",
       "      <th>2</th>\n",
       "      <td>0.005383</td>\n",
       "      <td>2017-01-01</td>\n",
       "      <td>2.0</td>\n",
       "      <td>3.0</td>\n",
       "      <td>1243.0</td>\n",
       "      <td>33886168.0</td>\n",
       "      <td>-117823170.0</td>\n",
       "      <td>8432.0</td>\n",
       "      <td>1962.0</td>\n",
       "      <td>85289.0</td>\n",
       "      <td>564778.0</td>\n",
       "      <td>479489.0</td>\n",
       "      <td>6488.30</td>\n",
       "      <td>14186244</td>\n",
       "      <td>6059</td>\n",
       "      <td>21412</td>\n",
       "      <td>1286</td>\n",
       "      <td>97078</td>\n",
       "      <td>NaN</td>\n",
       "      <td>11666</td>\n",
       "    </tr>\n",
       "    <tr>\n",
       "      <th>3</th>\n",
       "      <td>-0.103410</td>\n",
       "      <td>2017-01-01</td>\n",
       "      <td>3.0</td>\n",
       "      <td>4.0</td>\n",
       "      <td>2376.0</td>\n",
       "      <td>34245180.0</td>\n",
       "      <td>-118240722.0</td>\n",
       "      <td>13038.0</td>\n",
       "      <td>1970.0</td>\n",
       "      <td>108918.0</td>\n",
       "      <td>145143.0</td>\n",
       "      <td>36225.0</td>\n",
       "      <td>1777.51</td>\n",
       "      <td>12177905</td>\n",
       "      <td>6037</td>\n",
       "      <td>396551</td>\n",
       "      <td>3101</td>\n",
       "      <td>96330</td>\n",
       "      <td>NaN</td>\n",
       "      <td>10431</td>\n",
       "    </tr>\n",
       "    <tr>\n",
       "      <th>4</th>\n",
       "      <td>-0.001011</td>\n",
       "      <td>2017-01-01</td>\n",
       "      <td>3.0</td>\n",
       "      <td>4.0</td>\n",
       "      <td>2962.0</td>\n",
       "      <td>34145202.0</td>\n",
       "      <td>-118179824.0</td>\n",
       "      <td>63000.0</td>\n",
       "      <td>1950.0</td>\n",
       "      <td>276684.0</td>\n",
       "      <td>773303.0</td>\n",
       "      <td>496619.0</td>\n",
       "      <td>9516.26</td>\n",
       "      <td>12095076</td>\n",
       "      <td>6037</td>\n",
       "      <td>47019</td>\n",
       "      <td>3101</td>\n",
       "      <td>96293</td>\n",
       "      <td>274684</td>\n",
       "      <td>11714</td>\n",
       "    </tr>\n",
       "  </tbody>\n",
       "</table>\n",
       "</div>"
      ],
      "text/plain": [
       "   logerror transactiondate  bathroomcnt  bedroomcnt  \\\n",
       "0  0.025595      2017-01-01          3.5         4.0   \n",
       "1  0.055619      2017-01-01          1.0         2.0   \n",
       "2  0.005383      2017-01-01          2.0         3.0   \n",
       "3 -0.103410      2017-01-01          3.0         4.0   \n",
       "4 -0.001011      2017-01-01          3.0         4.0   \n",
       "\n",
       "   calculatedfinishedsquarefeet    latitude    longitude  lotsizesquarefeet  \\\n",
       "0                        3100.0  33634931.0 -117869207.0             4506.0   \n",
       "1                        1465.0  34449266.0 -119281531.0            12647.0   \n",
       "2                        1243.0  33886168.0 -117823170.0             8432.0   \n",
       "3                        2376.0  34245180.0 -118240722.0            13038.0   \n",
       "4                        2962.0  34145202.0 -118179824.0            63000.0   \n",
       "\n",
       "   yearbuilt  structuretaxvaluedollarcnt  taxvaluedollarcnt  \\\n",
       "0     1998.0                    485713.0          1023282.0   \n",
       "1     1967.0                     88000.0           464000.0   \n",
       "2     1962.0                     85289.0           564778.0   \n",
       "3     1970.0                    108918.0           145143.0   \n",
       "4     1950.0                    276684.0           773303.0   \n",
       "\n",
       "   landtaxvaluedollarcnt  taxamount  parcelid  fips regionidcity  \\\n",
       "0               537569.0   11013.72  14297519  6059        53571   \n",
       "1               376000.0    5672.48  17052889  6111        13091   \n",
       "2               479489.0    6488.30  14186244  6059        21412   \n",
       "3                36225.0    1777.51  12177905  6037       396551   \n",
       "4               496619.0    9516.26  12095076  6037        47019   \n",
       "\n",
       "  regionidcounty regionidzip regionidneighborhood  predict_lotsize  \n",
       "0           1286       96978                  NaN            11828  \n",
       "1           2061       97099                  NaN            11378  \n",
       "2           1286       97078                  NaN            11666  \n",
       "3           3101       96330                  NaN            10431  \n",
       "4           3101       96293               274684            11714  "
      ]
     },
     "execution_count": 16,
     "metadata": {},
     "output_type": "execute_result"
    }
   ],
   "source": [
    "zillow.head()"
   ]
  },
  {
   "cell_type": "markdown",
   "metadata": {},
   "source": [
    "   - Write a function that accepts the zillow data frame and returns the data frame with the missing values filled in."
   ]
  },
  {
   "cell_type": "code",
   "execution_count": 17,
   "metadata": {},
   "outputs": [],
   "source": [
    "# commented function out to preserve computation power\n",
    "#zillow['lotsizesquarefeet'] = zillow.apply(lambda row: row['predict_lotsize'] if np.isnan(row['lotsizesquarefeet']) else zillow['lotsizesquarefeet'], axis=1)"
   ]
  },
  {
   "cell_type": "markdown",
   "metadata": {},
   "source": [
    "   3. Missing Values: Of the remaining missing values, can they be imputed or otherwise estimated?\n",
    "\n",
    "        - Impute those that can be imputed with the method you feel best fits the attribute.\n",
    "        - Decide whether to remove the rows or columns of any that cannot be reasonably imputed.\n",
    "        - Document your reasons for the decisions on how to handle each of those."
   ]
  },
  {
   "cell_type": "code",
   "execution_count": 18,
   "metadata": {},
   "outputs": [
    {
     "data": {
      "text/plain": [
       "logerror                         0.00\n",
       "transactiondate                  0.00\n",
       "bathroomcnt                      0.00\n",
       "bedroomcnt                       0.00\n",
       "calculatedfinishedsquarefeet     0.16\n",
       "latitude                         0.00\n",
       "longitude                        0.00\n",
       "lotsizesquarefeet                0.00\n",
       "yearbuilt                        0.22\n",
       "structuretaxvaluedollarcnt       0.16\n",
       "taxvaluedollarcnt                0.00\n",
       "landtaxvaluedollarcnt            0.00\n",
       "taxamount                        0.01\n",
       "parcelid                         0.00\n",
       "fips                             0.00\n",
       "regionidcity                     1.98\n",
       "regionidcounty                   0.00\n",
       "regionidzip                      0.05\n",
       "regionidneighborhood            63.71\n",
       "predict_lotsize                  0.00\n",
       "dtype: float64"
      ]
     },
     "execution_count": 18,
     "metadata": {},
     "output_type": "execute_result"
    }
   ],
   "source": [
    "round(zillow.isna().sum()/len(zillow)*100,2)"
   ]
  },
  {
   "cell_type": "code",
   "execution_count": 19,
   "metadata": {},
   "outputs": [],
   "source": [
    "# we're going to drop regionidneighborhood because it's missing over 50% of it's data"
   ]
  },
  {
   "cell_type": "code",
   "execution_count": 20,
   "metadata": {},
   "outputs": [],
   "source": [
    "zillow = zillow.drop(columns=['regionidneighborhood'])"
   ]
  },
  {
   "cell_type": "code",
   "execution_count": 21,
   "metadata": {},
   "outputs": [],
   "source": [
    "# we're going to check out regionidcity and see if that column is vital to our analysis"
   ]
  },
  {
   "cell_type": "code",
   "execution_count": 22,
   "metadata": {},
   "outputs": [
    {
     "data": {
      "text/plain": [
       "12447.0    11452\n",
       "5534.0      1795\n",
       "40227.0     1492\n",
       "46298.0     1428\n",
       "16764.0     1087\n",
       "           ...  \n",
       "32927.0        3\n",
       "31134.0        2\n",
       "21395.0        1\n",
       "36078.0        1\n",
       "10815.0        1\n",
       "Name: regionidcity, Length: 175, dtype: int64"
      ]
     },
     "execution_count": 22,
     "metadata": {},
     "output_type": "execute_result"
    }
   ],
   "source": [
    "zillow.regionidcity.value_counts()"
   ]
  },
  {
   "cell_type": "code",
   "execution_count": 23,
   "metadata": {},
   "outputs": [],
   "source": [
    "# I'm not sure what these codes are, so we're going to drop this \n",
    "#columns for now and if we need it later i'll impute\n",
    "zillow = zillow.drop(columns=['regionidcity'])"
   ]
  },
  {
   "cell_type": "code",
   "execution_count": 24,
   "metadata": {},
   "outputs": [],
   "source": [
    "# We're going to use the median to fill taxamount\n",
    "zillow['taxamount'] = zillow['taxamount'].fillna(zillow.taxamount.median())"
   ]
  },
  {
   "cell_type": "code",
   "execution_count": 25,
   "metadata": {},
   "outputs": [],
   "source": [
    "# fillna's with median for yearbuilt\n",
    "zillow['yearbuilt'] = zillow['yearbuilt'].fillna(zillow.yearbuilt.median())\n"
   ]
  },
  {
   "cell_type": "code",
   "execution_count": 26,
   "metadata": {},
   "outputs": [],
   "source": [
    "# fillna's with median for structuretaxvaluedollarcnt\n",
    "zillow['structuretaxvaluedollarcnt'] = zillow['structuretaxvaluedollarcnt'].fillna(zillow.structuretaxvaluedollarcnt.median())"
   ]
  },
  {
   "cell_type": "code",
   "execution_count": 27,
   "metadata": {},
   "outputs": [],
   "source": [
    "# fillna's with median for calculatedfinishedsquarefeet\n",
    "zillow['calculatedfinishedsquarefeet'] = zillow['calculatedfinishedsquarefeet'].fillna(zillow.calculatedfinishedsquarefeet.median())"
   ]
  },
  {
   "cell_type": "code",
   "execution_count": 29,
   "metadata": {},
   "outputs": [],
   "source": [
    "zillow['regionidzip'] = zillow['regionidzip'].fillna(zillow.regionidzip.median())"
   ]
  },
  {
   "cell_type": "code",
   "execution_count": 30,
   "metadata": {},
   "outputs": [
    {
     "data": {
      "text/plain": [
       "logerror                        0.0\n",
       "transactiondate                 0.0\n",
       "bathroomcnt                     0.0\n",
       "bedroomcnt                      0.0\n",
       "calculatedfinishedsquarefeet    0.0\n",
       "latitude                        0.0\n",
       "longitude                       0.0\n",
       "lotsizesquarefeet               0.0\n",
       "yearbuilt                       0.0\n",
       "structuretaxvaluedollarcnt      0.0\n",
       "taxvaluedollarcnt               0.0\n",
       "landtaxvaluedollarcnt           0.0\n",
       "taxamount                       0.0\n",
       "parcelid                        0.0\n",
       "fips                            0.0\n",
       "regionidcounty                  0.0\n",
       "regionidzip                     0.0\n",
       "predict_lotsize                 0.0\n",
       "dtype: float64"
      ]
     },
     "execution_count": 30,
     "metadata": {},
     "output_type": "execute_result"
    }
   ],
   "source": [
    "round(zillow.isna().sum()/len(zillow)*100,2)"
   ]
  },
  {
   "cell_type": "code",
   "execution_count": 31,
   "metadata": {},
   "outputs": [],
   "source": [
    "# turning our df into a csv a\n",
    "#zillow.to_csv('zillow.csv')"
   ]
  },
  {
   "cell_type": "code",
   "execution_count": 32,
   "metadata": {},
   "outputs": [],
   "source": [
    "zillow = pd.read_csv('zillow.csv')"
   ]
  },
  {
   "cell_type": "code",
   "execution_count": 35,
   "metadata": {},
   "outputs": [],
   "source": [
    "zillow = zillow.drop(columns=['Unnamed: 0'])"
   ]
  },
  {
   "cell_type": "code",
   "execution_count": 37,
   "metadata": {},
   "outputs": [
    {
     "data": {
      "text/plain": [
       "6037.0    33911\n",
       "6059.0    14136\n",
       "6111.0     4395\n",
       "Name: fips, dtype: int64"
      ]
     },
     "execution_count": 37,
     "metadata": {},
     "output_type": "execute_result"
    }
   ],
   "source": []
  },
  {
   "cell_type": "markdown",
   "metadata": {},
   "source": [
    "   4. Outliers: Original from exercises. Adapt as you see fit.\n",
    "\n",
    "        - Write a function that accepts a series (i.e. one column from a data frame) and summarizes how many outliers are in the series. This function should accept a second parameter that determines how outliers are detected, with the ability to detect outliers in 3 ways: IQR, standard deviations (z-score), percentiles)"
   ]
  },
  {
   "cell_type": "markdown",
   "metadata": {},
   "source": [
    "   5. Use your function defined above to identify columns where you should handle the outliers."
   ]
  },
  {
   "cell_type": "markdown",
   "metadata": {},
   "source": [
    "   6. Write a function that accepts the zillow data frame and removes the outliers. You should make a decision and document how you will remove outliers."
   ]
  },
  {
   "cell_type": "markdown",
   "metadata": {},
   "source": [
    "   7. Is there erroneous data you have found that you need to remove or repair? If so, take action."
   ]
  },
  {
   "cell_type": "markdown",
   "metadata": {},
   "source": [
    "   8. Are there outliers you want to \"squeeze in\" to a max value? (e.g. all bathrooms > 6 => bathrooms = 6). If so, make those changes."
   ]
  },
  {
   "cell_type": "markdown",
   "metadata": {},
   "source": [
    "# Exploration with Clustering\n",
    "## Cluster the Target Variable\n",
    "    Why? By reducing the noise of the continuous variable, we can possibly see trends easier by turning this continuous variable into clusters and then comparing those clusters with respect to other variables through visualizations or tests.\n",
    "\n",
    "    Perform clustering with logerror as the only feature used in the clustering algorithm. Decide on a number of clusters to use, and store the cluster predictions back onto your data frame as cluster_target. Look at the centroids that were produced in this process. What do they tell you?\n",
    "\n",
    "    Use the produced clusters to help you explore through visualization how logerror relates to other variables. (A common way to do this is to use color to indicate the cluster id, and the other variables can be your x-axis and y-axis. (hint: look at your swarmplot function))."
   ]
  },
  {
   "cell_type": "markdown",
   "metadata": {},
   "source": [
    "## Cluster Independent Variables\n",
    "   You should also perform some clustering based on a number of independent variables. Create and evaluate several clustering models based on subsets of the independent variables. Here are some ideas:\n",
    "\n",
    "   - Location, that is, latitude and longitude\n",
    "   - Size (finished square feet)\n",
    "   - Location and size\n",
    "   - Be sure to use these new clusters in exploring your data, and interpret what these clusters tell you."
   ]
  },
  {
   "cell_type": "markdown",
   "metadata": {},
   "source": [
    "## Test the Significance of Clusters\n",
    "    Use statistical testing methods to determine whether the clusters you have created are significant in terms of their relationship to logerror."
   ]
  },
  {
   "cell_type": "markdown",
   "metadata": {},
   "source": [
    "# Modeling\n",
    "## Feature Engineering\n",
    "   1. Remove variables that are not needed, wanted, useful, or are redundant.\n",
    "   2. Add any features you think may be useful.\n",
    "   3. Split your data into training and test sets.\n",
    "   4. Create subsets of data if you would like to create multiple models and then merge (such as, a different model for each cluster or for each county)."
   ]
  },
  {
   "cell_type": "markdown",
   "metadata": {},
   "source": [
    "# Model Selection\n",
    "   1. Train at least 3 different models (a model is different if there are changes in one or more of the following: features, hyper-parameters, algorithm). Create object, fit, predict & evaluate. Use mean absolute error or mean squared error to evaluate. Also, try regression algorithms you have not used before.\n",
    "   2. Evaluate your best model on your test data set to get an idea of your model's out of sample error."
   ]
  },
  {
   "cell_type": "code",
   "execution_count": null,
   "metadata": {},
   "outputs": [],
   "source": []
  },
  {
   "cell_type": "code",
   "execution_count": null,
   "metadata": {},
   "outputs": [],
   "source": []
  }
 ],
 "metadata": {
  "kernelspec": {
   "display_name": "Python 3",
   "language": "python",
   "name": "python3"
  },
  "language_info": {
   "codemirror_mode": {
    "name": "ipython",
    "version": 3
   },
   "file_extension": ".py",
   "mimetype": "text/x-python",
   "name": "python",
   "nbconvert_exporter": "python",
   "pygments_lexer": "ipython3",
   "version": "3.7.4"
  }
 },
 "nbformat": 4,
 "nbformat_minor": 4
}
