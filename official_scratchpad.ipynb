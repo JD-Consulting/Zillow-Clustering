{
 "cells": [
  {
   "cell_type": "markdown",
   "metadata": {},
   "source": [
    "### Imports"
   ]
  },
  {
   "cell_type": "code",
   "execution_count": 15,
   "metadata": {},
   "outputs": [
    {
     "name": "stdout",
     "output_type": "stream",
     "text": [
      "The autoreload extension is already loaded. To reload it, use:\n",
      "  %reload_ext autoreload\n"
     ]
    }
   ],
   "source": [
    "%load_ext autoreload\n",
    "%autoreload 2\n",
    "import pandas as pd\n",
    "import numpy as np\n",
    "\n",
    "import matplotlib.pyplot as plt\n",
    "import seaborn as sns\n",
    "\n",
    "from sklearn.cluster import KMeans\n",
    "from sklearn.preprocessing import MinMaxScaler\n",
    "from sklearn.model_selection import train_test_split\n",
    "\n",
    "from acquire import acquire_data\n",
    "from prepare import the_master_imputer, data_prep, percent_of_values_missing, change_data_to_int, change_data_to_object\n",
    "from set_counties import create_county_cols\n",
    "from summerize import summarize_data, show_distribution"
   ]
  },
  {
   "cell_type": "markdown",
   "metadata": {},
   "source": [
    "## Acquire"
   ]
  },
  {
   "cell_type": "markdown",
   "metadata": {},
   "source": [
    "- using our function from our acquire.py file to import our data from SQL and import it into a csv, drop the Unnamed column and assign it to a data frame\n",
    "- we also cut outliers but removing any home where their structuretaxvaluedollarcnt was > $1,000,000"
   ]
  },
  {
   "cell_type": "code",
   "execution_count": 2,
   "metadata": {},
   "outputs": [
    {
     "name": "stdout",
     "output_type": "stream",
     "text": [
      "Acquiring data ...\n",
      "\n",
      "- csv already exist\n",
      "\n",
      "Data has been acquired\n"
     ]
    }
   ],
   "source": [
    "df = acquire_data()"
   ]
  },
  {
   "cell_type": "markdown",
   "metadata": {},
   "source": [
    "## Prepare"
   ]
  },
  {
   "cell_type": "markdown",
   "metadata": {},
   "source": [
    "- our data_prep function removes any column missing 50% or more of their data as well as any row missing up to 75% of it's data (*We didn't want to waste time strategizing ways to accuratly sum up data missing over 50% of it's values*) "
   ]
  },
  {
   "cell_type": "code",
   "execution_count": 3,
   "metadata": {},
   "outputs": [],
   "source": [
    "df = data_prep(df)"
   ]
  },
  {
   "cell_type": "markdown",
   "metadata": {},
   "source": [
    "- the function below tells us what percent of each column is missing"
   ]
  },
  {
   "cell_type": "code",
   "execution_count": 4,
   "metadata": {},
   "outputs": [
    {
     "data": {
      "text/plain": [
       "parcelid                        0.00\n",
       "logerror                        0.00\n",
       "transactiondate                 0.00\n",
       "bathroomcnt                     0.00\n",
       "bedroomcnt                      0.00\n",
       "calculatedfinishedsquarefeet    0.10\n",
       "fips                            0.00\n",
       "latitude                        0.00\n",
       "longitude                       0.00\n",
       "lotsizesquarefeet               0.65\n",
       "regionidcity                    1.96\n",
       "regionidcounty                  0.00\n",
       "regionidzip                     0.04\n",
       "yearbuilt                       0.16\n",
       "structuretaxvaluedollarcnt      0.00\n",
       "taxvaluedollarcnt               0.00\n",
       "landtaxvaluedollarcnt           0.00\n",
       "taxamount                       0.01\n",
       "dtype: float64"
      ]
     },
     "execution_count": 4,
     "metadata": {},
     "output_type": "execute_result"
    }
   ],
   "source": [
    "percent_of_values_missing(df)"
   ]
  },
  {
   "cell_type": "markdown",
   "metadata": {},
   "source": [
    "- using the_master_imputer function, we will fill all of our missing functions with the median value, for that column's rows (*Since we weren't missing more than 2% of any data, we felt that the median would suffice for the missing values in our dataset*)"
   ]
  },
  {
   "cell_type": "code",
   "execution_count": 5,
   "metadata": {},
   "outputs": [],
   "source": [
    "df = the_master_imputer(df)"
   ]
  },
  {
   "cell_type": "markdown",
   "metadata": {},
   "source": [
    "We see that all of our missing values are taken care of"
   ]
  },
  {
   "cell_type": "code",
   "execution_count": 6,
   "metadata": {},
   "outputs": [
    {
     "data": {
      "text/plain": [
       "parcelid                        0\n",
       "logerror                        0\n",
       "transactiondate                 0\n",
       "bathroomcnt                     0\n",
       "bedroomcnt                      0\n",
       "calculatedfinishedsquarefeet    0\n",
       "fips                            0\n",
       "latitude                        0\n",
       "longitude                       0\n",
       "lotsizesquarefeet               0\n",
       "regionidcity                    0\n",
       "regionidcounty                  0\n",
       "regionidzip                     0\n",
       "yearbuilt                       0\n",
       "structuretaxvaluedollarcnt      0\n",
       "taxvaluedollarcnt               0\n",
       "landtaxvaluedollarcnt           0\n",
       "taxamount                       0\n",
       "dtype: int64"
      ]
     },
     "execution_count": 6,
     "metadata": {},
     "output_type": "execute_result"
    }
   ],
   "source": [
    "df.isna().sum()"
   ]
  },
  {
   "cell_type": "markdown",
   "metadata": {},
   "source": [
    ">now we're going to take our fips # and use that to impute what county our observations were made in using our create_county_cols function and in the process we're going to drop our fips & our regioncounty columns.\n",
    "fips source: [THIS LINK](https://www.nrcs.usda.gov/wps/portal/nrcs/detail/?cid=nrcs143_013697)"
   ]
  },
  {
   "cell_type": "code",
   "execution_count": 7,
   "metadata": {},
   "outputs": [],
   "source": [
    "df = create_county_cols(df)"
   ]
  },
  {
   "cell_type": "markdown",
   "metadata": {},
   "source": [
    "### Lets change our values so we can have less noise in our exploration / modeling phase"
   ]
  },
  {
   "cell_type": "markdown",
   "metadata": {},
   "source": [
    "- using our change_data_to_object function to change the datatypes of *parcelid*, *regionidcity*, & *regionidzip* to object. (we dont want to do any addition with our unit id's)"
   ]
  },
  {
   "cell_type": "code",
   "execution_count": 8,
   "metadata": {},
   "outputs": [],
   "source": [
    "cols = ['parcelid', 'regionidzip', 'regionidcity']\n",
    "df = change_data_to_object(df, cols)"
   ]
  },
  {
   "cell_type": "markdown",
   "metadata": {},
   "source": [
    "- using our change_data_to_int function to change the datatypes of *yearbuilt*, *latitude*, *longitude*, *lotsizesquarefeet*, *calculatedfinishedsquarefeet*, & *bedroomcnt* to change these datatypes from float's to integers to make the data more exclusive"
   ]
  },
  {
   "cell_type": "code",
   "execution_count": 11,
   "metadata": {},
   "outputs": [],
   "source": [
    "cols = ['yearbuilt', 'latitude', 'longitude', 'lotsizesquarefeet', 'calculatedfinishedsquarefeet', 'bedroomcnt' ]\n",
    "df = change_data_to_int(df, cols)"
   ]
  },
  {
   "cell_type": "markdown",
   "metadata": {},
   "source": [
    "### We're going summarize what our data looks like\n",
    "- this functions runs a .info, a .describe and a .shape on our data and returns it in a pandas series"
   ]
  },
  {
   "cell_type": "code",
   "execution_count": 14,
   "metadata": {},
   "outputs": [
    {
     "name": "stdout",
     "output_type": "stream",
     "text": [
      "******** Info\n",
      "<class 'pandas.core.frame.DataFrame'>\n",
      "Int64Index: 51586 entries, 0 to 51585\n",
      "Data columns (total 19 columns):\n",
      "logerror                        51586 non-null float64\n",
      "transactiondate                 51586 non-null object\n",
      "bathroomcnt                     51586 non-null float64\n",
      "structuretaxvaluedollarcnt      51586 non-null float64\n",
      "taxvaluedollarcnt               51586 non-null float64\n",
      "landtaxvaluedollarcnt           51586 non-null float64\n",
      "taxamount                       51586 non-null float64\n",
      "LA                              51586 non-null uint8\n",
      "Orange                          51586 non-null uint8\n",
      "Ventura                         51586 non-null uint8\n",
      "parcelid                        51586 non-null object\n",
      "regionidzip                     51586 non-null object\n",
      "regionidcity                    51586 non-null object\n",
      "yearbuilt                       51586 non-null int64\n",
      "latitude                        51586 non-null int64\n",
      "longitude                       51586 non-null int64\n",
      "lotsizesquarefeet               51586 non-null int64\n",
      "calculatedfinishedsquarefeet    51586 non-null int64\n",
      "bedroomcnt                      51586 non-null int64\n",
      "dtypes: float64(6), int64(6), object(4), uint8(3)\n",
      "memory usage: 6.8+ MB\n",
      "\n",
      "******** Shape (51586, 19)\n",
      "\n",
      "******** Describe\n",
      "<bound method NDFrame.describe of        logerror transactiondate  bathroomcnt  structuretaxvaluedollarcnt  \\\n",
      "0      0.025595      2017-01-01          3.5                    485713.0   \n",
      "1      0.055619      2017-01-01          1.0                     88000.0   \n",
      "2      0.005383      2017-01-01          2.0                     85289.0   \n",
      "3     -0.103410      2017-01-01          3.0                    108918.0   \n",
      "4     -0.001011      2017-01-01          3.0                    276684.0   \n",
      "...         ...             ...          ...                         ...   \n",
      "51581  0.020615      2017-09-20          2.0                     70917.0   \n",
      "51582  0.013209      2017-09-21          2.0                     50683.0   \n",
      "51583  0.037129      2017-09-21          1.0                     32797.0   \n",
      "51584  0.007204      2017-09-25          2.0                    140000.0   \n",
      "51585 -0.197755      2018-05-25          2.0                     77118.0   \n",
      "\n",
      "       taxvaluedollarcnt  landtaxvaluedollarcnt  taxamount  LA  Orange  \\\n",
      "0              1023282.0               537569.0   11013.72   0       1   \n",
      "1               464000.0               376000.0    5672.48   0       0   \n",
      "2               564778.0               479489.0    6488.30   0       1   \n",
      "3               145143.0                36225.0    1777.51   1       0   \n",
      "4               773303.0               496619.0    9516.26   1       0   \n",
      "...                  ...                    ...        ...  ..     ...   \n",
      "51581           354621.0               283704.0    4478.43   1       0   \n",
      "51582            67205.0                16522.0    1107.48   0       0   \n",
      "51583            49546.0                16749.0     876.43   1       0   \n",
      "51584           522000.0               382000.0    6317.15   1       0   \n",
      "51585           259334.0               182216.0    3345.78   1       0   \n",
      "\n",
      "       Ventura  parcelid regionidzip regionidcity  yearbuilt  latitude  \\\n",
      "0            0  14297519       96978        53571       1998  33634931   \n",
      "1            1  17052889       97099        13091       1967  34449266   \n",
      "2            0  14186244       97078        21412       1962  33886168   \n",
      "3            0  12177905       96330       396551       1970  34245180   \n",
      "4            0  12095076       96293        47019       1950  34145202   \n",
      "...        ...       ...         ...          ...        ...       ...   \n",
      "51581        0  11000655       96284        12447       1940  34245368   \n",
      "51582        1  17239384       97116        27110       1964  34300140   \n",
      "51583        0  12773139       96480        36502       1954  34040895   \n",
      "51584        0  12826780       96171        14634       1955  33937685   \n",
      "51585        0  13083743       96488       118217       1960  34010864   \n",
      "\n",
      "       longitude  lotsizesquarefeet  calculatedfinishedsquarefeet  bedroomcnt  \n",
      "0     -117869207               4506                          3100           4  \n",
      "1     -119281531              12647                          1465           2  \n",
      "2     -117823170               8432                          1243           3  \n",
      "3     -118240722              13038                          2376           4  \n",
      "4     -118179824              63000                          2962           4  \n",
      "...          ...                ...                           ...         ...  \n",
      "51581 -118282383              47405                          1286           2  \n",
      "51582 -118706327              12105                          1612           4  \n",
      "51583 -118038169               5074                          1032           3  \n",
      "51584 -117996709               6347                          1762           3  \n",
      "51585 -117900894               5927                          1050           3  \n",
      "\n",
      "[51586 rows x 19 columns]>\n",
      "\n",
      "******** Value Counts\n",
      "(-0.688, 0.304]    50137\n",
      "(0.304, 1.296]      1190\n",
      "(-1.68, -0.688]      101\n",
      "(1.296, 2.287]        75\n",
      "(2.287, 3.279]        54\n",
      "                   ...  \n",
      "(7.0, 8.4]            12\n",
      "(8.4, 9.8]             6\n",
      "(11.2, 12.6]           3\n",
      "(9.8, 11.2]            2\n",
      "(12.6, 14.0]           1\n",
      "Length: 52431, dtype: int64\n"
     ]
    }
   ],
   "source": [
    "summarize_data(df)"
   ]
  },
  {
   "cell_type": "markdown",
   "metadata": {},
   "source": [
    "## preprocessing"
   ]
  },
  {
   "cell_type": "code",
   "execution_count": null,
   "metadata": {},
   "outputs": [],
   "source": []
  }
 ],
 "metadata": {
  "kernelspec": {
   "display_name": "Python 3",
   "language": "python",
   "name": "python3"
  },
  "language_info": {
   "codemirror_mode": {
    "name": "ipython",
    "version": 3
   },
   "file_extension": ".py",
   "mimetype": "text/x-python",
   "name": "python",
   "nbconvert_exporter": "python",
   "pygments_lexer": "ipython3",
   "version": "3.7.6"
  }
 },
 "nbformat": 4,
 "nbformat_minor": 4
}
